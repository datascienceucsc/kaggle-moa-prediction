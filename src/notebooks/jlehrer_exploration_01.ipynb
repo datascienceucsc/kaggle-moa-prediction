{
 "cells": [
  {
   "cell_type": "markdown",
   "metadata": {},
   "source": [
    "# Exploration 01"
   ]
  },
  {
   "cell_type": "code",
   "execution_count": 59,
   "metadata": {},
   "outputs": [],
   "source": [
    "import pandas as pd \n",
    "import numpy as np\n",
    "\n",
    "df = pd.read_csv('data/train_features.csv')\n",
    "df_label_n = pd.read_csv('data/train_targets_nonscored.csv')\n",
    "df_label = pd.read_csv('data/train_targets_scored.csv')\n",
    "df_test = pd.read_csv('data/test_features.csv')"
   ]
  },
  {
   "cell_type": "code",
   "execution_count": 60,
   "metadata": {},
   "outputs": [
    {
     "data": {
      "text/plain": [
       "0"
      ]
     },
     "execution_count": 60,
     "metadata": {},
     "output_type": "execute_result"
    }
   ],
   "source": [
    "df.isna().sum().sum()"
   ]
  },
  {
   "cell_type": "code",
   "execution_count": 61,
   "metadata": {},
   "outputs": [
    {
     "data": {
      "text/plain": [
       "True"
      ]
     },
     "execution_count": 61,
     "metadata": {},
     "output_type": "execute_result"
    }
   ],
   "source": [
    "all(df_label['sig_id'] == df['sig_id'])"
   ]
  },
  {
   "cell_type": "code",
   "execution_count": 62,
   "metadata": {},
   "outputs": [],
   "source": [
    "from sklearn.linear_model import LogisticRegression\n",
    "\n",
    "reg = LogisticRegression(C=0.001)"
   ]
  },
  {
   "cell_type": "code",
   "execution_count": 63,
   "metadata": {},
   "outputs": [
    {
     "data": {
      "text/plain": [
       "float64    872\n",
       "object       3\n",
       "int64        1\n",
       "dtype: int64"
      ]
     },
     "execution_count": 63,
     "metadata": {},
     "output_type": "execute_result"
    }
   ],
   "source": [
    "df = df.infer_objects()\n",
    "df.dtypes.value_counts()"
   ]
  },
  {
   "cell_type": "code",
   "execution_count": 64,
   "metadata": {},
   "outputs": [],
   "source": [
    "df = df.drop(['sig_id'], axis=1)\n",
    "# df = pd.get_dummies(df)"
   ]
  },
  {
   "cell_type": "code",
   "execution_count": 65,
   "metadata": {},
   "outputs": [],
   "source": [
    "df_label = df_label.drop('sig_id', axis=1)"
   ]
  },
  {
   "cell_type": "code",
   "execution_count": 66,
   "metadata": {},
   "outputs": [],
   "source": [
    "from sklearn.model_selection import cross_val_score\n",
    "from sklearn.metrics import log_loss"
   ]
  },
  {
   "cell_type": "code",
   "execution_count": 67,
   "metadata": {},
   "outputs": [],
   "source": [
    "df = df.drop(['cp_type', 'cp_dose'], axis=1)"
   ]
  },
  {
   "cell_type": "code",
   "execution_count": 14,
   "metadata": {
    "scrolled": true
   },
   "outputs": [
    {
     "name": "stdout",
     "output_type": "stream",
     "text": [
      "0.005575367780188028\n",
      "0.006050483524631242\n",
      "0.007950274315952719\n",
      "0.0452917852980891\n",
      "0.06548854872772422\n",
      "0.026071291929317064\n"
     ]
    }
   ],
   "source": [
    "scores = []\n",
    "for target in df_label.columns[0:5]:\n",
    "    scores.append(np.mean(np.abs(cross_val_score(reg, df, df_label[target], scoring='neg_log_loss', n_jobs=-1))))\n",
    "    print(scores[-1])\n",
    "\n",
    "print(np.mean(scores))"
   ]
  },
  {
   "cell_type": "code",
   "execution_count": 68,
   "metadata": {},
   "outputs": [],
   "source": [
    "df_test = df_test.drop(['sig_id', 'cp_type', 'cp_dose'], axis=1)"
   ]
  },
  {
   "cell_type": "code",
   "execution_count": 77,
   "metadata": {
    "scrolled": true
   },
   "outputs": [
    {
     "name": "stdout",
     "output_type": "stream",
     "text": [
      "Predicted 5-alpha_reductase_inhibitor, 0 out of 206\n",
      "Predicted 11-beta-hsd1_inhibitor, 1 out of 206\n",
      "Predicted acat_inhibitor, 2 out of 206\n",
      "Predicted acetylcholine_receptor_agonist, 3 out of 206\n",
      "Predicted acetylcholine_receptor_antagonist, 4 out of 206\n",
      "Predicted acetylcholinesterase_inhibitor, 5 out of 206\n",
      "Predicted adenosine_receptor_agonist, 6 out of 206\n",
      "Predicted adenosine_receptor_antagonist, 7 out of 206\n",
      "Predicted adenylyl_cyclase_activator, 8 out of 206\n",
      "Predicted adrenergic_receptor_agonist, 9 out of 206\n",
      "Predicted adrenergic_receptor_antagonist, 10 out of 206\n",
      "Predicted akt_inhibitor, 11 out of 206\n",
      "Predicted aldehyde_dehydrogenase_inhibitor, 12 out of 206\n",
      "Predicted alk_inhibitor, 13 out of 206\n",
      "Predicted ampk_activator, 14 out of 206\n",
      "Predicted analgesic, 15 out of 206\n",
      "Predicted androgen_receptor_agonist, 16 out of 206\n",
      "Predicted androgen_receptor_antagonist, 17 out of 206\n",
      "Predicted anesthetic_-_local, 18 out of 206\n",
      "Predicted angiogenesis_inhibitor, 19 out of 206\n",
      "Predicted angiotensin_receptor_antagonist, 20 out of 206\n",
      "Predicted anti-inflammatory, 21 out of 206\n",
      "Predicted antiarrhythmic, 22 out of 206\n",
      "Predicted antibiotic, 23 out of 206\n",
      "Predicted anticonvulsant, 24 out of 206\n",
      "Predicted antifungal, 25 out of 206\n",
      "Predicted antihistamine, 26 out of 206\n",
      "Predicted antimalarial, 27 out of 206\n",
      "Predicted antioxidant, 28 out of 206\n",
      "Predicted antiprotozoal, 29 out of 206\n",
      "Predicted antiviral, 30 out of 206\n",
      "Predicted apoptosis_stimulant, 31 out of 206\n",
      "Predicted aromatase_inhibitor, 32 out of 206\n",
      "Predicted atm_kinase_inhibitor, 33 out of 206\n",
      "Predicted atp-sensitive_potassium_channel_antagonist, 34 out of 206\n",
      "Predicted atp_synthase_inhibitor, 35 out of 206\n",
      "Predicted atpase_inhibitor, 36 out of 206\n",
      "Predicted atr_kinase_inhibitor, 37 out of 206\n",
      "Predicted aurora_kinase_inhibitor, 38 out of 206\n",
      "Predicted autotaxin_inhibitor, 39 out of 206\n",
      "Predicted bacterial_30s_ribosomal_subunit_inhibitor, 40 out of 206\n",
      "Predicted bacterial_50s_ribosomal_subunit_inhibitor, 41 out of 206\n",
      "Predicted bacterial_antifolate, 42 out of 206\n",
      "Predicted bacterial_cell_wall_synthesis_inhibitor, 43 out of 206\n",
      "Predicted bacterial_dna_gyrase_inhibitor, 44 out of 206\n",
      "Predicted bacterial_dna_inhibitor, 45 out of 206\n",
      "Predicted bacterial_membrane_integrity_inhibitor, 46 out of 206\n",
      "Predicted bcl_inhibitor, 47 out of 206\n",
      "Predicted bcr-abl_inhibitor, 48 out of 206\n",
      "Predicted benzodiazepine_receptor_agonist, 49 out of 206\n",
      "Predicted beta_amyloid_inhibitor, 50 out of 206\n",
      "Predicted bromodomain_inhibitor, 51 out of 206\n",
      "Predicted btk_inhibitor, 52 out of 206\n",
      "Predicted calcineurin_inhibitor, 53 out of 206\n",
      "Predicted calcium_channel_blocker, 54 out of 206\n",
      "Predicted cannabinoid_receptor_agonist, 55 out of 206\n",
      "Predicted cannabinoid_receptor_antagonist, 56 out of 206\n",
      "Predicted carbonic_anhydrase_inhibitor, 57 out of 206\n",
      "Predicted casein_kinase_inhibitor, 58 out of 206\n",
      "Predicted caspase_activator, 59 out of 206\n",
      "Predicted catechol_o_methyltransferase_inhibitor, 60 out of 206\n",
      "Predicted cc_chemokine_receptor_antagonist, 61 out of 206\n",
      "Predicted cck_receptor_antagonist, 62 out of 206\n"
     ]
    },
    {
     "name": "stderr",
     "output_type": "stream",
     "text": [
      "/Users/julian/opt/miniconda3/envs/base-data-science/lib/python3.8/site-packages/sklearn/linear_model/_logistic.py:762: ConvergenceWarning: lbfgs failed to converge (status=1):\n",
      "STOP: TOTAL NO. of ITERATIONS REACHED LIMIT.\n",
      "\n",
      "Increase the number of iterations (max_iter) or scale the data as shown in:\n",
      "    https://scikit-learn.org/stable/modules/preprocessing.html\n",
      "Please also refer to the documentation for alternative solver options:\n",
      "    https://scikit-learn.org/stable/modules/linear_model.html#logistic-regression\n",
      "  n_iter_i = _check_optimize_result(\n"
     ]
    },
    {
     "name": "stdout",
     "output_type": "stream",
     "text": [
      "Predicted cdk_inhibitor, 63 out of 206\n",
      "Predicted chelating_agent, 64 out of 206\n",
      "Predicted chk_inhibitor, 65 out of 206\n",
      "Predicted chloride_channel_blocker, 66 out of 206\n",
      "Predicted cholesterol_inhibitor, 67 out of 206\n",
      "Predicted cholinergic_receptor_antagonist, 68 out of 206\n",
      "Predicted coagulation_factor_inhibitor, 69 out of 206\n",
      "Predicted corticosteroid_agonist, 70 out of 206\n",
      "Predicted cyclooxygenase_inhibitor, 71 out of 206\n",
      "Predicted cytochrome_p450_inhibitor, 72 out of 206\n",
      "Predicted dihydrofolate_reductase_inhibitor, 73 out of 206\n",
      "Predicted dipeptidyl_peptidase_inhibitor, 74 out of 206\n",
      "Predicted diuretic, 75 out of 206\n",
      "Predicted dna_alkylating_agent, 76 out of 206\n",
      "Predicted dna_inhibitor, 77 out of 206\n",
      "Predicted dopamine_receptor_agonist, 78 out of 206\n",
      "Predicted dopamine_receptor_antagonist, 79 out of 206\n",
      "Predicted egfr_inhibitor, 80 out of 206\n",
      "Predicted elastase_inhibitor, 81 out of 206\n",
      "Predicted erbb2_inhibitor, 82 out of 206\n",
      "Predicted estrogen_receptor_agonist, 83 out of 206\n",
      "Predicted estrogen_receptor_antagonist, 84 out of 206\n",
      "Predicted faah_inhibitor, 85 out of 206\n",
      "Predicted farnesyltransferase_inhibitor, 86 out of 206\n",
      "Predicted fatty_acid_receptor_agonist, 87 out of 206\n",
      "Predicted fgfr_inhibitor, 88 out of 206\n",
      "Predicted flt3_inhibitor, 89 out of 206\n",
      "Predicted focal_adhesion_kinase_inhibitor, 90 out of 206\n",
      "Predicted free_radical_scavenger, 91 out of 206\n",
      "Predicted fungal_squalene_epoxidase_inhibitor, 92 out of 206\n",
      "Predicted gaba_receptor_agonist, 93 out of 206\n",
      "Predicted gaba_receptor_antagonist, 94 out of 206\n",
      "Predicted gamma_secretase_inhibitor, 95 out of 206\n",
      "Predicted glucocorticoid_receptor_agonist, 96 out of 206\n",
      "Predicted glutamate_inhibitor, 97 out of 206\n",
      "Predicted glutamate_receptor_agonist, 98 out of 206\n",
      "Predicted glutamate_receptor_antagonist, 99 out of 206\n",
      "Predicted gonadotropin_receptor_agonist, 100 out of 206\n",
      "Predicted gsk_inhibitor, 101 out of 206\n",
      "Predicted hcv_inhibitor, 102 out of 206\n",
      "Predicted hdac_inhibitor, 103 out of 206\n",
      "Predicted histamine_receptor_agonist, 104 out of 206\n",
      "Predicted histamine_receptor_antagonist, 105 out of 206\n",
      "Predicted histone_lysine_demethylase_inhibitor, 106 out of 206\n",
      "Predicted histone_lysine_methyltransferase_inhibitor, 107 out of 206\n",
      "Predicted hiv_inhibitor, 108 out of 206\n",
      "Predicted hmgcr_inhibitor, 109 out of 206\n",
      "Predicted hsp_inhibitor, 110 out of 206\n",
      "Predicted igf-1_inhibitor, 111 out of 206\n",
      "Predicted ikk_inhibitor, 112 out of 206\n",
      "Predicted imidazoline_receptor_agonist, 113 out of 206\n",
      "Predicted immunosuppressant, 114 out of 206\n",
      "Predicted insulin_secretagogue, 115 out of 206\n",
      "Predicted insulin_sensitizer, 116 out of 206\n",
      "Predicted integrin_inhibitor, 117 out of 206\n",
      "Predicted jak_inhibitor, 118 out of 206\n",
      "Predicted kit_inhibitor, 119 out of 206\n",
      "Predicted laxative, 120 out of 206\n",
      "Predicted leukotriene_inhibitor, 121 out of 206\n",
      "Predicted leukotriene_receptor_antagonist, 122 out of 206\n",
      "Predicted lipase_inhibitor, 123 out of 206\n",
      "Predicted lipoxygenase_inhibitor, 124 out of 206\n",
      "Predicted lxr_agonist, 125 out of 206\n",
      "Predicted mdm_inhibitor, 126 out of 206\n",
      "Predicted mek_inhibitor, 127 out of 206\n",
      "Predicted membrane_integrity_inhibitor, 128 out of 206\n",
      "Predicted mineralocorticoid_receptor_antagonist, 129 out of 206\n",
      "Predicted monoacylglycerol_lipase_inhibitor, 130 out of 206\n",
      "Predicted monoamine_oxidase_inhibitor, 131 out of 206\n",
      "Predicted monopolar_spindle_1_kinase_inhibitor, 132 out of 206\n",
      "Predicted mtor_inhibitor, 133 out of 206\n",
      "Predicted mucolytic_agent, 134 out of 206\n",
      "Predicted neuropeptide_receptor_antagonist, 135 out of 206\n"
     ]
    },
    {
     "name": "stderr",
     "output_type": "stream",
     "text": [
      "/Users/julian/opt/miniconda3/envs/base-data-science/lib/python3.8/site-packages/sklearn/linear_model/_logistic.py:762: ConvergenceWarning: lbfgs failed to converge (status=1):\n",
      "STOP: TOTAL NO. of ITERATIONS REACHED LIMIT.\n",
      "\n",
      "Increase the number of iterations (max_iter) or scale the data as shown in:\n",
      "    https://scikit-learn.org/stable/modules/preprocessing.html\n",
      "Please also refer to the documentation for alternative solver options:\n",
      "    https://scikit-learn.org/stable/modules/linear_model.html#logistic-regression\n",
      "  n_iter_i = _check_optimize_result(\n"
     ]
    },
    {
     "name": "stdout",
     "output_type": "stream",
     "text": [
      "Predicted nfkb_inhibitor, 136 out of 206\n",
      "Predicted nicotinic_receptor_agonist, 137 out of 206\n",
      "Predicted nitric_oxide_donor, 138 out of 206\n",
      "Predicted nitric_oxide_production_inhibitor, 139 out of 206\n",
      "Predicted nitric_oxide_synthase_inhibitor, 140 out of 206\n",
      "Predicted norepinephrine_reuptake_inhibitor, 141 out of 206\n",
      "Predicted nrf2_activator, 142 out of 206\n",
      "Predicted opioid_receptor_agonist, 143 out of 206\n",
      "Predicted opioid_receptor_antagonist, 144 out of 206\n",
      "Predicted orexin_receptor_antagonist, 145 out of 206\n",
      "Predicted p38_mapk_inhibitor, 146 out of 206\n",
      "Predicted p-glycoprotein_inhibitor, 147 out of 206\n",
      "Predicted parp_inhibitor, 148 out of 206\n",
      "Predicted pdgfr_inhibitor, 149 out of 206\n",
      "Predicted pdk_inhibitor, 150 out of 206\n",
      "Predicted phosphodiesterase_inhibitor, 151 out of 206\n",
      "Predicted phospholipase_inhibitor, 152 out of 206\n",
      "Predicted pi3k_inhibitor, 153 out of 206\n",
      "Predicted pkc_inhibitor, 154 out of 206\n",
      "Predicted potassium_channel_activator, 155 out of 206\n",
      "Predicted potassium_channel_antagonist, 156 out of 206\n",
      "Predicted ppar_receptor_agonist, 157 out of 206\n",
      "Predicted ppar_receptor_antagonist, 158 out of 206\n",
      "Predicted progesterone_receptor_agonist, 159 out of 206\n",
      "Predicted progesterone_receptor_antagonist, 160 out of 206\n",
      "Predicted prostaglandin_inhibitor, 161 out of 206\n",
      "Predicted prostanoid_receptor_antagonist, 162 out of 206\n"
     ]
    },
    {
     "name": "stderr",
     "output_type": "stream",
     "text": [
      "/Users/julian/opt/miniconda3/envs/base-data-science/lib/python3.8/site-packages/sklearn/linear_model/_logistic.py:762: ConvergenceWarning: lbfgs failed to converge (status=1):\n",
      "STOP: TOTAL NO. of ITERATIONS REACHED LIMIT.\n",
      "\n",
      "Increase the number of iterations (max_iter) or scale the data as shown in:\n",
      "    https://scikit-learn.org/stable/modules/preprocessing.html\n",
      "Please also refer to the documentation for alternative solver options:\n",
      "    https://scikit-learn.org/stable/modules/linear_model.html#logistic-regression\n",
      "  n_iter_i = _check_optimize_result(\n"
     ]
    },
    {
     "name": "stdout",
     "output_type": "stream",
     "text": [
      "Predicted proteasome_inhibitor, 163 out of 206\n",
      "Predicted protein_kinase_inhibitor, 164 out of 206\n",
      "Predicted protein_phosphatase_inhibitor, 165 out of 206\n",
      "Predicted protein_synthesis_inhibitor, 166 out of 206\n",
      "Predicted protein_tyrosine_kinase_inhibitor, 167 out of 206\n",
      "Predicted radiopaque_medium, 168 out of 206\n",
      "Predicted raf_inhibitor, 169 out of 206\n",
      "Predicted ras_gtpase_inhibitor, 170 out of 206\n",
      "Predicted retinoid_receptor_agonist, 171 out of 206\n",
      "Predicted retinoid_receptor_antagonist, 172 out of 206\n",
      "Predicted rho_associated_kinase_inhibitor, 173 out of 206\n",
      "Predicted ribonucleoside_reductase_inhibitor, 174 out of 206\n",
      "Predicted rna_polymerase_inhibitor, 175 out of 206\n",
      "Predicted serotonin_receptor_agonist, 176 out of 206\n",
      "Predicted serotonin_receptor_antagonist, 177 out of 206\n",
      "Predicted serotonin_reuptake_inhibitor, 178 out of 206\n",
      "Predicted sigma_receptor_agonist, 179 out of 206\n",
      "Predicted sigma_receptor_antagonist, 180 out of 206\n",
      "Predicted smoothened_receptor_antagonist, 181 out of 206\n",
      "Predicted sodium_channel_inhibitor, 182 out of 206\n",
      "Predicted sphingosine_receptor_agonist, 183 out of 206\n",
      "Predicted src_inhibitor, 184 out of 206\n",
      "Predicted steroid, 185 out of 206\n",
      "Predicted syk_inhibitor, 186 out of 206\n",
      "Predicted tachykinin_antagonist, 187 out of 206\n",
      "Predicted tgf-beta_receptor_inhibitor, 188 out of 206\n",
      "Predicted thrombin_inhibitor, 189 out of 206\n",
      "Predicted thymidylate_synthase_inhibitor, 190 out of 206\n",
      "Predicted tlr_agonist, 191 out of 206\n",
      "Predicted tlr_antagonist, 192 out of 206\n",
      "Predicted tnf_inhibitor, 193 out of 206\n",
      "Predicted topoisomerase_inhibitor, 194 out of 206\n",
      "Predicted transient_receptor_potential_channel_antagonist, 195 out of 206\n",
      "Predicted tropomyosin_receptor_kinase_inhibitor, 196 out of 206\n",
      "Predicted trpv_agonist, 197 out of 206\n",
      "Predicted trpv_antagonist, 198 out of 206\n",
      "Predicted tubulin_inhibitor, 199 out of 206\n",
      "Predicted tyrosine_kinase_inhibitor, 200 out of 206\n",
      "Predicted ubiquitin_specific_protease_inhibitor, 201 out of 206\n",
      "Predicted vegfr_inhibitor, 202 out of 206\n",
      "Predicted vitamin_b, 203 out of 206\n",
      "Predicted vitamin_d_receptor_agonist, 204 out of 206\n",
      "Predicted wnt_inhibitor, 205 out of 206\n"
     ]
    }
   ],
   "source": [
    "predict_df = pd.DataFrame()\n",
    "\n",
    "for target in df_label.columns: \n",
    "    reg = LogisticRegression(C=0.001).fit(df, df_label[target].ravel())\n",
    "    predict_df[target] = reg.predict(df_test)\n",
    "    print('Predicted {}, {} out of {}'.format(target, list(df_label.columns).index(target), len(df_label.columns)))"
   ]
  },
  {
   "cell_type": "code",
   "execution_count": 82,
   "metadata": {},
   "outputs": [
    {
     "data": {
      "text/plain": [
       "0    3940\n",
       "1      42\n",
       "Name: tubulin_inhibitor, dtype: int64"
      ]
     },
     "execution_count": 82,
     "metadata": {},
     "output_type": "execute_result"
    }
   ],
   "source": []
  },
  {
   "cell_type": "code",
   "execution_count": null,
   "metadata": {},
   "outputs": [],
   "source": []
  }
 ],
 "metadata": {
  "kernelspec": {
   "display_name": "basedatascience",
   "language": "python",
   "name": "basedatascience"
  },
  "language_info": {
   "codemirror_mode": {
    "name": "ipython",
    "version": 3
   },
   "file_extension": ".py",
   "mimetype": "text/x-python",
   "name": "python",
   "nbconvert_exporter": "python",
   "pygments_lexer": "ipython3",
   "version": "3.8.5"
  }
 },
 "nbformat": 4,
 "nbformat_minor": 4
}
